{
 "cells": [
  {
   "cell_type": "markdown",
   "id": "37faaa56",
   "metadata": {},
   "source": [
    "# IMPORTACIÓN DE LIBRERÍAS"
   ]
  },
  {
   "cell_type": "code",
   "execution_count": null,
   "id": "7e131267",
   "metadata": {},
   "outputs": [],
   "source": [
    "import cv2\n",
    "import matplotlib.pyplot as plt\n",
    "import os\n",
    "import numpy as np\n",
    "import ctypes"
   ]
  },
  {
   "cell_type": "markdown",
   "id": "53eb537c",
   "metadata": {},
   "source": [
    "# CREACIÓN DE LA DATA"
   ]
  },
  {
   "cell_type": "code",
   "execution_count": null,
   "id": "db5271e5",
   "metadata": {},
   "outputs": [],
   "source": [
    "############## VARIABLES #################\n",
    "\n",
    "nombre=\"elsaiz\" # Nombre o clase donde se guardará el archivo (15 clases en total)\n",
    "carpeta=\"entrenamiento\" # Carpeta donde se guardará el archivo, se empieza con \"entrenamiento\"\n",
    "a=0 # Contador para el número de fotos\n",
    "b=0 # Contador para dar por finalizado la toma de imágenes\n",
    "c=0 # Contador para obtener 2 tipos de mensajes, VUELVA PRONTO o FOTOS COMPLETAS\n",
    "\n",
    "############ COORDENADAS DEL RECTÁNGULO ############\n",
    "\n",
    "punto1a=10\n",
    "punto1b=470\n",
    "punto2a=80\n",
    "punto2b=600\n",
    "\n",
    "########## COORDENADAS DE LOS CÍRCULOS GUÍAS #######\n",
    "\n",
    "puntomedio=226+punto1a\n",
    "puntoiz=puntomedio-33\n",
    "puntode=puntomedio+33\n",
    "\n",
    "############ COLORES PARA VISUALIZACIÓN ###########\n",
    "\n",
    "color_contorno_mano = (0,255,0) # Color verde\n",
    "color_rectangulo = (0,255,255)  # Color amarillo\n",
    "color_rojo = (0,0,255)  # Color rojo\n",
    "color_blanco = (255,255,255)  # Color blanco\n",
    "color_azul = (255,0,0)  # Color azul\n",
    "\n",
    "############# UBICACIONES #################\n",
    "\n",
    "ubicacion3 = (20,50)\n",
    "tamañoLetra = 1.1 # Tamaño de letra para el número de imágenes\n",
    "grosorLetra = 2 # Grosor de letra para el número de imágenes\n",
    "\n",
    "############ INICIO DE LA CAPTURA DE IMÁGENES ############\n",
    "\n",
    "camera = cv2.VideoCapture(1) # Captura de video desde la webcam\n",
    "mensaje=ctypes.windll.user32.MessageBoxW(0, \"¿COMENZAMOS?\", \"INFO\", 1) # Muestra un cuadro de diálogo\n",
    "if mensaje==1: # Si acepta el usuario entra a la condicional\n",
    "    print(\"TOMA DE FOTOS COMENZANDO\".format(a,nombre=\"angel\"))    \n",
    "    while(True):\n",
    "        _, frame = camera.read() # Guarda cada frame en la variable \"frame\"\n",
    "        frame_rotate  = cv2.rotate(frame, cv2.ROTATE_90_CLOCKWISE) # Rota la imagen inicial\n",
    "        frame_blur_rotate = cv2.GaussianBlur(frame_rotate ,(11,11),0) # Realiza el suavizado gaussiano  \n",
    "        gray  = cv2.cvtColor(frame_blur_rotate, cv2.COLOR_RGB2GRAY)  # Cambia del espacio RGB a espacio gris\n",
    "        rgb_imagen = cv2.cvtColor(gray, cv2.COLOR_GRAY2RGB) # Cambia del espacio gris a espacio RGB\n",
    "        _,th = cv2.threshold(gray,75,255,cv2.THRESH_BINARY) # Realiza la umbralización simple de la imagen gris\n",
    "        contornos,jerarquia = cv2.findContours(th,cv2.RETR_EXTERNAL, cv2.CHAIN_APPROX_SIMPLE) # Halla los contornos de la imagen anterior\n",
    "        cnts = sorted(contornos,key=cv2.contourArea,reverse=True)[:1]        \n",
    "        final=cv2.bitwise_and(rgb_imagen,rgb_imagen,mask=th) # Realiza la resta entre la imagen RGB y la máscara\n",
    "        final_gray= cv2.cvtColor(final,cv2.COLOR_RGB2GRAY) # Cambia del espacio RGB a espacio gris\n",
    "        clahe=cv2.createCLAHE(clipLimit=3,tileGridSize=(8,8)) # Crea el algoritmo CLAHE\n",
    "        clahe_img=clahe.apply(final_gray) # Realiza el algoritmo CLAHE\n",
    "        RGB  = cv2.cvtColor(clahe_img, cv2.COLOR_GRAY2RGB) # Cambia del espacio gris a espacio RGB\n",
    "        RGB2  = cv2.cvtColor(clahe_img, cv2.COLOR_GRAY2RGB) # Lo mismo de la anterior línea pero para guardar la imagen\n",
    "        cv2.rectangle(RGB,(punto1b,punto2b),(punto1a,punto2a),color_rectangulo,1) # Dibuja el rectángulo\n",
    "        cv2.drawContours(RGB, cnts,0, color_contorno_mano) # Dibuja el contorno de la mano\n",
    "        cv2.circle(RGB,(puntoiz, 368),15,color_rojo,2) # Dibuja los 3 círculos guías\n",
    "        cv2.circle(RGB,(puntode, 368),15,color_blanco,2)\n",
    "        cv2.circle(RGB,(puntomedio, 368),15,color_azul,2)\n",
    "        for cnt in cnts:\n",
    "            # Encontrar el centro del contorno\n",
    "            M = cv2.moments(cnt)\n",
    "            if M[\"m00\"] == 0: \n",
    "                M[\"m00\"]=1\n",
    "            x = int(M[\"m10\"]/M[\"m00\"])\n",
    "            y = int(M[\"m01\"]/M[\"m00\"])\n",
    "            cv2.circle(RGB,tuple([x,y]),4,(0,255,0),-1) # Dibuja el centro del contorno de la mano  \n",
    "        m=cv2.putText(RGB, str(a)+\"/200\", ubicacion3, cv2.FONT_HERSHEY_TRIPLEX, tamañoLetra, color_rojo, grosorLetra)\n",
    "        cv2.imshow('Frame Final',RGB) # Muestra la GUI     \n",
    "        res = cv2.waitKey(1) # Guarda la variable al hacer click de cualquier número\n",
    "        if res & 0xFF == ord(\"2\"): # Si hace click en el número \"2\"\n",
    "            b=2\n",
    "            c=1\n",
    "            break\n",
    "        elif res & 0xFF == ord(\"1\"): # Si hace click en el número \"1\"\n",
    "            a=a+1\n",
    "            imagen_res1 = cv2.resize(RGB2, (227, 227)) # Redimensiona la imagen\n",
    "            if a==141:\n",
    "                carpeta=\"validacion\"\n",
    "            elif a==181:\n",
    "                carpeta=\"pruebas\"\n",
    "            cv2.imwrite(\"C:/Users/Angel Terrones/Desktop/TESIS/1. imagensin/{carpeta}/{nombre}/{}.png\".format(a,carpeta=carpeta,nombre=nombre),\\\n",
    "                          imagen_res1) # Guarda la imagen a la siguiente dirección de carpeta             \n",
    "            print(\"foto #{} de {nombre} guardada\".format(a,nombre=nombre))\n",
    "            if a==200:\n",
    "                b=2\n",
    "                c=2\n",
    "                break\n",
    "if b==2:\n",
    "    camera.release()\n",
    "    cv2.destroyAllWindows()\n",
    "    if c==1:\n",
    "        ctypes.windll.user32.MessageBoxW(0, \"VUELVA PRONTO\", \"GRACIAS\", 1)\n",
    "    elif c==2:\n",
    "        ctypes.windll.user32.MessageBoxW(0, \"FOTOS COMPLETAS\", \"GRACIAS\", 1)"
   ]
  },
  {
   "cell_type": "code",
   "execution_count": null,
   "id": "8b169e54",
   "metadata": {},
   "outputs": [],
   "source": []
  }
 ],
 "metadata": {
  "kernelspec": {
   "display_name": "Python 3 (ipykernel)",
   "language": "python",
   "name": "python3"
  },
  "language_info": {
   "codemirror_mode": {
    "name": "ipython",
    "version": 3
   },
   "file_extension": ".py",
   "mimetype": "text/x-python",
   "name": "python",
   "nbconvert_exporter": "python",
   "pygments_lexer": "ipython3",
   "version": "3.7.13"
  },
  "nbTranslate": {
   "displayLangs": [
    "*"
   ],
   "hotkey": "alt-t",
   "langInMainMenu": true,
   "sourceLang": "en",
   "targetLang": "fr",
   "useGoogleTranslate": true
  },
  "varInspector": {
   "cols": {
    "lenName": 16,
    "lenType": 16,
    "lenVar": 40
   },
   "kernels_config": {
    "python": {
     "delete_cmd_postfix": "",
     "delete_cmd_prefix": "del ",
     "library": "var_list.py",
     "varRefreshCmd": "print(var_dic_list())"
    },
    "r": {
     "delete_cmd_postfix": ") ",
     "delete_cmd_prefix": "rm(",
     "library": "var_list.r",
     "varRefreshCmd": "cat(var_dic_list()) "
    }
   },
   "types_to_exclude": [
    "module",
    "function",
    "builtin_function_or_method",
    "instance",
    "_Feature"
   ],
   "window_display": false
  }
 },
 "nbformat": 4,
 "nbformat_minor": 5
}
